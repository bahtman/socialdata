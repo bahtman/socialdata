{
 "cells": [
  {
   "cell_type": "markdown",
   "metadata": {},
   "source": [
    "# Motivation\n",
    "\n",
    "We have chosen a dataset with country wide traffic accidents in the US. This dataset has a lot of data that we can explore, while using the multitude of the tools we have taught in the course. It also opens up the possibility to do advanced analysis. Our goal is to show the user how dangerous it can be to drive during bad/extreme weather conditions, using interactive tools. We believe that by doing this, the user is more entertained and invested in the findings of our analysis.\n",
    "\n",
    "# Basic stats\n",
    "\n",
    "Before starting the analysis, we have had to remove some of the non-important features of our dataset. We did this by removing 26 attributes. Furthermore some cleanup was needed to remove n/a values. \n",
    "\n",
    "MANGLER: \"Write a short section that discusses the dataset stats, containing key points/plots from your exploratory data analysis.\"\n",
    "\n",
    "# Data Analysis\n",
    "\n",
    "\n",
    "\n",
    "# Genre\n",
    "\n",
    "\n",
    "\n",
    "# Visualizations\n",
    "\n",
    "We have chosen to use a mix of different plots, where our most important visualizations are when using geodata. This type of plot is easy to understand and therefore a good choice, because we try to cater to all type of users.\n",
    "We will create a userbased interface, where the user can exploid the data and the story it tells for ones self. But alongside of that we will create a \"cartoon\" type of visualization of our story, and the findings we have found based on our analysis of the data. \n",
    "\n",
    "\n",
    "# Discussion\n",
    "\n",
    "\n",
    "\n",
    "# Contributions\n",
    "\n",
    "\n",
    "\n"
   ]
  },
  {
   "cell_type": "code",
   "execution_count": null,
   "metadata": {},
   "outputs": [],
   "source": [
    "###\n"
   ]
  },
  {
   "cell_type": "code",
   "execution_count": null,
   "metadata": {},
   "outputs": [],
   "source": []
  }
 ],
 "metadata": {
  "kernelspec": {
   "display_name": "Python 3",
   "language": "python",
   "name": "python3"
  },
  "language_info": {
   "codemirror_mode": {
    "name": "ipython",
    "version": 3
   },
   "file_extension": ".py",
   "mimetype": "text/x-python",
   "name": "python",
   "nbconvert_exporter": "python",
   "pygments_lexer": "ipython3",
   "version": "3.8.2"
  }
 },
 "nbformat": 4,
 "nbformat_minor": 4
}